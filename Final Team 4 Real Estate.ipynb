{
 "cells": [
  {
   "cell_type": "markdown",
   "id": "e422f830",
   "metadata": {},
   "source": [
    "# Real Estate Pricing Tier Classification by Thai, Laxmi, and Daniel"
   ]
  },
  {
   "cell_type": "markdown",
   "id": "2d2077bb",
   "metadata": {},
   "source": [
    "### Data Cleaning & Preparation - Thai"
   ]
  },
  {
   "cell_type": "code",
   "execution_count": 28,
   "id": "fba03bc4",
   "metadata": {},
   "outputs": [],
   "source": [
    "# Import Libraries\n",
    "import pandas as pd\n",
    "import numpy as np\n",
    "from sklearn.preprocessing import LabelEncoder"
   ]
  },
  {
   "cell_type": "code",
   "execution_count": 31,
   "id": "7a699e95",
   "metadata": {},
   "outputs": [
    {
     "name": "stdout",
     "output_type": "stream",
     "text": [
      "Original dataset:\n",
      "     status  bed  bath  acre_lot        city        state  zip_code  \\\n",
      "0  for_sale  3.0   2.0      0.12    Adjuntas  Puerto Rico     601.0   \n",
      "1  for_sale  4.0   2.0      0.08    Adjuntas  Puerto Rico     601.0   \n",
      "2  for_sale  2.0   1.0      0.15  Juana Diaz  Puerto Rico     795.0   \n",
      "3  for_sale  4.0   2.0      0.10       Ponce  Puerto Rico     731.0   \n",
      "4  for_sale  6.0   2.0      0.05    Mayaguez  Puerto Rico     680.0   \n",
      "\n",
      "   house_size prev_sold_date     price  \n",
      "0       920.0            NaN  105000.0  \n",
      "1      1527.0            NaN   80000.0  \n",
      "2       748.0            NaN   67000.0  \n",
      "3      1800.0            NaN  145000.0  \n",
      "4         NaN            NaN   65000.0  \n",
      "\n",
      "Number of rows in the original dataset: 3520686\n",
      "\n",
      "All columns in the original dataset:\n",
      "Index(['status', 'bed', 'bath', 'acre_lot', 'city', 'state', 'zip_code',\n",
      "       'house_size', 'prev_sold_date', 'price'],\n",
      "      dtype='object')\n",
      "\n",
      "Cleaned dataset:\n",
      "     status  bed  bath  acre_lot  city  state  zip_code  house_size     price\n",
      "0  for_sale  3.0   2.0      0.12    31     17     601.0       920.0  105000.0\n",
      "1  for_sale  4.0   2.0      0.08    31     17     601.0      1527.0   80000.0\n",
      "2  for_sale  2.0   1.0      0.15  2949     17     795.0       748.0   67000.0\n",
      "3  for_sale  4.0   2.0      0.10  4727     17     731.0      1800.0  145000.0\n",
      "5  for_sale  4.0   3.0      0.46  5245     17     612.0      2520.0  179000.0\n",
      "\n",
      "Number of rows in the cleaned dataset: 1853038\n"
     ]
    }
   ],
   "source": [
    "# Load the dataset\n",
    "real_estate = pd.read_csv('realtor-data.zip.csv')\n",
    "\n",
    "# Print original dataset\n",
    "print(\"Original dataset:\")\n",
    "print(real_estate.head())\n",
    "\n",
    "# Print the number of rows in the original dataset\n",
    "print(\"\\nNumber of rows in the original dataset:\", len(real_estate))\n",
    "\n",
    "# Print all columns in the original dataset\n",
    "print(\"\\nAll columns in the original dataset:\")\n",
    "print(real_estate.columns)\n",
    "\n",
    "# Remove irrelevant columns\n",
    "real_estate.drop(['prev_sold_date'], axis=1, inplace=True)\n",
    "\n",
    "# Remove rows with missing values\n",
    "real_estate.dropna(inplace=True)\n",
    "\n",
    "# Convert categorical variables into numerical representations using Label Encoding (optional: depends on algorithm)\n",
    "label_encoder = LabelEncoder()\n",
    "for col in categorical_columns:\n",
    "    real_estate[col] = label_encoder.fit_transform(real_estate[col])\n",
    "\n",
    "# Print cleaned dataset\n",
    "print(\"\\nCleaned dataset:\")\n",
    "print(real_estate.head())\n",
    "\n",
    "# Print the number of rows in the cleaned dataset\n",
    "print(\"\\nNumber of rows in the cleaned dataset:\", len(real_estate))\n",
    "\n",
    "# Save the cleaned dataset\n",
    "real_estate.to_csv('cleaned_realtor_data.csv', index=False)"
   ]
  },
  {
   "cell_type": "markdown",
   "id": "1d20c1d0",
   "metadata": {},
   "source": [
    "### Exploratory Data Analysis - Laxmi"
   ]
  },
  {
   "cell_type": "code",
   "execution_count": null,
   "id": "72c01460-a047-4a77-8437-4e0ed3920db2",
   "metadata": {},
   "outputs": [],
   "source": []
  }
 ],
 "metadata": {
  "kernelspec": {
   "display_name": "Python 3 (ipykernel)",
   "language": "python",
   "name": "python3"
  },
  "language_info": {
   "codemirror_mode": {
    "name": "ipython",
    "version": 3
   },
   "file_extension": ".py",
   "mimetype": "text/x-python",
   "name": "python",
   "nbconvert_exporter": "python",
   "pygments_lexer": "ipython3",
   "version": "3.11.5"
  }
 },
 "nbformat": 4,
 "nbformat_minor": 5
}
