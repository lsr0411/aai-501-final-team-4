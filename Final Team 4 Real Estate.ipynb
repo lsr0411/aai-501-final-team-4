{
 "cells": [
  {
   "cell_type": "markdown",
   "id": "e422f830",
   "metadata": {},
   "source": [
    "# Real Estate Pricing Tier Classification by Thai, Laxmi, and Daniel"
   ]
  },
  {
   "cell_type": "markdown",
   "id": "2d2077bb",
   "metadata": {},
   "source": [
    "### Data Cleaning & Preparation - Thai"
   ]
  },
  {
   "cell_type": "code",
   "execution_count": null,
   "id": "fba03bc4",
   "metadata": {},
   "outputs": [],
   "source": [
    "# Import Libraries\n",
    "import pandas as pd\n",
    "import numpy as np"
   ]
  },
  {
   "cell_type": "code",
   "execution_count": 7,
   "id": "b67008e2",
   "metadata": {},
   "outputs": [
    {
     "name": "stdout",
     "output_type": "stream",
     "text": [
      "     status  bed  bath  acre_lot        city        state  zip_code  \\\n",
      "0  for_sale  3.0   2.0      0.12    Adjuntas  Puerto Rico     601.0   \n",
      "1  for_sale  4.0   2.0      0.08    Adjuntas  Puerto Rico     601.0   \n",
      "2  for_sale  2.0   1.0      0.15  Juana Diaz  Puerto Rico     795.0   \n",
      "3  for_sale  4.0   2.0      0.10       Ponce  Puerto Rico     731.0   \n",
      "4  for_sale  6.0   2.0      0.05    Mayaguez  Puerto Rico     680.0   \n",
      "\n",
      "   house_size prev_sold_date     price  \n",
      "0       920.0            NaN  105000.0  \n",
      "1      1527.0            NaN   80000.0  \n",
      "2       748.0            NaN   67000.0  \n",
      "3      1800.0            NaN  145000.0  \n",
      "4         NaN            NaN   65000.0  \n",
      "<class 'pandas.core.frame.DataFrame'>\n",
      "RangeIndex: 3520686 entries, 0 to 3520685\n",
      "Data columns (total 10 columns):\n",
      " #   Column          Dtype  \n",
      "---  ------          -----  \n",
      " 0   status          object \n",
      " 1   bed             float64\n",
      " 2   bath            float64\n",
      " 3   acre_lot        float64\n",
      " 4   city            object \n",
      " 5   state           object \n",
      " 6   zip_code        float64\n",
      " 7   house_size      float64\n",
      " 8   prev_sold_date  object \n",
      " 9   price           float64\n",
      "dtypes: float64(6), object(4)\n",
      "memory usage: 268.6+ MB\n",
      "None\n",
      "<class 'pandas.core.frame.DataFrame'>\n",
      "RangeIndex: 3520686 entries, 0 to 3520685\n",
      "Data columns (total 8 columns):\n",
      " #   Column      Dtype  \n",
      "---  ------      -----  \n",
      " 0   bed         float64\n",
      " 1   bath        float64\n",
      " 2   acre_lot    float64\n",
      " 3   city        object \n",
      " 4   state       object \n",
      " 5   zip_code    float64\n",
      " 6   house_size  float64\n",
      " 7   price       float64\n",
      "dtypes: float64(6), object(2)\n",
      "memory usage: 214.9+ MB\n",
      "None\n"
     ]
    }
   ],
   "source": [
    "# Load the dataset\n",
    "df = pd.read_csv('realtor-data.zip.csv')\n",
    "\n",
    "# Inspect the data\n",
    "print(df.head())\n",
    "print(df.info())\n",
    "\n",
    "# Remove columns that are irrelavant\n",
    "df.drop(['status', 'prev_sold_date'], axis=1, inplace=True)\n",
    "\n",
    "# Handle missing values for numerical columns by imputing with the median\n",
    "numerical_columns = ['bed', 'bath', 'acre_lot', 'house_size', 'price']\n",
    "df[numerical_columns] = df[numerical_columns].apply(lambda x: x.fillna(x.median()), axis=0)\n",
    "\n",
    "# Assuming 'city' and 'state' are the only categorical columns with missing values\n",
    "# Handle missing values for categorical columns by imputing with the mode (most common value)\n",
    "categorical_columns = ['city', 'state']\n",
    "df[categorical_columns] = df[categorical_columns].apply(lambda x: x.fillna(x.mode()[0]), axis=0)\n",
    "\n",
    "# Recheck info\n",
    "print(df.info())\n",
    "\n",
    "# Save the cleaned dataset\n",
    "df.to_csv('clean-realtor-data.zip.csv', index=False)"
   ]
  },
  {
   "cell_type": "markdown",
   "id": "1d20c1d0",
   "metadata": {},
   "source": [
    "### Exploratory Data Analysis - Laxmi"
   ]
  },
  {
   "cell_type": "code",
   "execution_count": null,
   "id": "7a699e95",
   "metadata": {},
   "outputs": [],
   "source": []
  }
 ],
 "metadata": {
  "kernelspec": {
   "display_name": "Python 3 (ipykernel)",
   "language": "python",
   "name": "python3"
  },
  "language_info": {
   "codemirror_mode": {
    "name": "ipython",
    "version": 3
   },
   "file_extension": ".py",
   "mimetype": "text/x-python",
   "name": "python",
   "nbconvert_exporter": "python",
   "pygments_lexer": "ipython3",
   "version": "3.11.5"
  }
 },
 "nbformat": 4,
 "nbformat_minor": 5
}
